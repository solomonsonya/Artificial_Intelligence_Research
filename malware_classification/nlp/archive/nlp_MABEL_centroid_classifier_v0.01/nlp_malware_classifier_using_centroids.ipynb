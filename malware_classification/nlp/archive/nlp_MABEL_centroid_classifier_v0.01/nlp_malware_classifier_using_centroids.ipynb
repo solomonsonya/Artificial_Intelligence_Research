{
 "cells": [
  {
   "cell_type": "markdown",
   "id": "a6bf8a5e-48e8-4ec4-93a1-47000dc8a410",
   "metadata": {},
   "source": [
    "This notebook SNIP is a very brief use case applying how we can use centroids from previous malware analysis to build a classifier of new malware. \n",
    "This notebook is built by Solomon Sonya"
   ]
  },
  {
   "cell_type": "markdown",
   "id": "3e968c96-09f9-4162-81c1-40c5c1b4f92b",
   "metadata": {},
   "source": [
    "# imports"
   ]
  },
  {
   "cell_type": "code",
   "execution_count": 1,
   "id": "23bdd1ca-5ec7-430d-8950-981d74a83668",
   "metadata": {},
   "outputs": [
    {
     "name": "stdout",
     "output_type": "stream",
     "text": [
      "configuring imports now...\n",
      "imports complete\n"
     ]
    }
   ],
   "source": [
    "print('configuring imports now...')\n",
    "\n",
    "import threading\n",
    "import pandas as pd\n",
    "import time\n",
    "import random\n",
    "import os\n",
    "from sklearn.metrics import *\n",
    "from sklearn.feature_extraction.text import *\n",
    "from tabulate import *\n",
    "import numpy as np\n",
    "import seaborn as sns\n",
    "import matplotlib.pyplot as plt\n",
    "import statsmodels.api as sm\n",
    "import re\n",
    "import logging\n",
    "import inspect\n",
    "import io\n",
    "from plotly.subplots import make_subplots\n",
    "from wordcloud import WordCloud\n",
    "from pathlib import Path\n",
    "import csv\n",
    "from plotly.subplots import make_subplots\n",
    "import plotly.graph_objects as go\n",
    "from datetime import *\n",
    "from scipy import sparse\n",
    "from sklearn.metrics.pairwise import cosine_similarity, cosine_distances\n",
    "import joblib\n",
    "from sklearn.metrics import jaccard_score\n",
    "from sklearn.preprocessing import MultiLabelBinarizer\n",
    "from scipy.signal import find_peaks\n",
    "from matplotlib import gridspec\n",
    "from scipy.stats import mode\n",
    "from scipy.stats import entropy\n",
    "from sklearn.decomposition import PCA\n",
    "from mpl_toolkits.mplot3d import Axes3D\n",
    "import plotly.express as px\n",
    "from sklearn.cluster import KMeans\n",
    "from sklearn.metrics import silhouette_score, calinski_harabasz_score, davies_bouldin_score\n",
    "from kneed import KneeLocator\n",
    "\n",
    "import warnings\n",
    "warnings.filterwarnings('ignore')\n",
    "\n",
    "print('imports complete')"
   ]
  },
  {
   "cell_type": "markdown",
   "id": "dfbda1d6-1393-4185-ab0e-1b88cd821c39",
   "metadata": {},
   "source": [
    "# Load MABEL Dataset SNIP"
   ]
  },
  {
   "cell_type": "code",
   "execution_count": 6,
   "id": "c6b8c13e-3b69-4a65-bd9e-b70b03675d34",
   "metadata": {},
   "outputs": [
    {
     "name": "stdout",
     "output_type": "stream",
     "text": [
      "reading MABEL snip file MABEL snip--> pe_metadata_master_table_grayscale_dataset_v1_normalized_import_functions.csv\n",
      "read complete!\n"
     ]
    }
   ],
   "source": [
    "###############################################################################################################################\n",
    "# Import DataSet\n",
    "##############################################################################################################################\n",
    "input_file_path = 'pe_metadata_master_table_grayscale_dataset_v1_normalized_import_functions.csv'\n",
    "print(f'reading MABEL snip file MABEL snip--> {input_file_path}')\n",
    "df_original_input = pd.read_csv(input_file_path, sep=',')\n",
    "print('read complete!')\n",
    "\n",
    "###############################################################################################################################\n",
    "# Set Variables\n",
    "##############################################################################################################################\n",
    "class_label_name = 'family_name'\n",
    "feature_name = 'standardized_import_functions'\n",
    "feature_name_and_library_name = 'import_functions'\n",
    "unique_instance_identifier = 'sha256_hash'\n",
    "sort_feature_name = 'count_import_functions'\n",
    "ACTIVE_THREAD_COUNT = 1\n",
    "df_to_analyze = df_original_input\n",
    "\n",
    "\n",
    "##############################################################################################################################\n",
    "# Run Single Threaded Tests\n",
    "##############################################################################################################################\n",
    "label = class_label_name\n",
    "\n",
    "# get list of unique labels\n",
    "lst_unique_labels = list(df_to_analyze[label].unique())\n",
    "\n",
    "# prepare dictionary of active and completed threads\n",
    "lst_ready_threads = list()\n",
    "dict_COMPLETED_threads = dict()\n",
    "lst_RUNNING_threads = list()\n",
    "  \n",
    "\n",
    "###########################################################################################################\n",
    "# filter df\n",
    "###########################################################################################################\n",
    "lst_initial_feature_names = [   'sha256_hash',\n",
    "                                    'clam_av_scan_results',\n",
    "                                    'yara_malware',\n",
    "                                    'family_name',\n",
    "                                    'sample_name',\n",
    "                                    'md5_hash',\n",
    "                                    'sha1_hash',\n",
    "                                    'sha224_hash',\n",
    "                                    'sha384_hash',\n",
    "                                    'sha512_hash',\n",
    "                                    'ssdeep',\n",
    "                                    'file_size',\n",
    "                                    'binary_file_size',\n",
    "                                    'time_stamp',\n",
    "                                    'file_type_extension',\n",
    "                                    'summary_detected_languages',\n",
    "                                    'entropy(min=0.0; max=8.0)',\n",
    "                                    'execution_section_name',\n",
    "                                    'execution_size_bytes',\n",
    "                                    'import_functions',\n",
    "                                    'standardized_import_functions',\n",
    "                                    'count_import_functions',\n",
    "                                    'peid',\n",
    "                                    'yara_packer',\n",
    "                                    'yara_rat',\n",
    "                                    'code_sections',\n",
    "                                    'code_section_sizes',\n",
    "                                    'entropy_per_section',\n",
    "                                    'number_sections'                                     \n",
    "                                ]\n",
    "\n",
    "df_input = df_original_input.filter(items=lst_initial_feature_names)"
   ]
  },
  {
   "cell_type": "markdown",
   "id": "1e980436-12b0-486e-b910-e3a9641555f8",
   "metadata": {},
   "source": [
    "# <span style=\"color:blue\"> Vectorize all Malware Variant Centroids for Classification </span>"
   ]
  },
  {
   "cell_type": "code",
   "execution_count": 7,
   "id": "985a6d9b-ec10-4bcb-b5bd-91e69477c6a2",
   "metadata": {},
   "outputs": [
    {
     "name": "stdout",
     "output_type": "stream",
     "text": [
      "reading in master centroid file at path --> _malware_family_variant_centroids.csv\n",
      "read complete. num rows imported: 23\n",
      "Vectorizing dataframe now...\n",
      "vectorization complete. Calculating cosine pairwise distances now...\n",
      "drawing interactive 3D chart now...\n",
      "\n",
      "\n",
      "\n",
      "COMPLETE!!!!\n"
     ]
    }
   ],
   "source": [
    "path_MASTER_malware_family_centroids = '_malware_family_variant_centroids.csv'\n",
    "\n",
    "##########################################################################\n",
    "# read centroid\n",
    "##########################################################################\n",
    "print(f'reading in master centroid file at path --> {path_MASTER_malware_family_centroids}')\n",
    "df_centroid = pd.read_csv(path_MASTER_malware_family_centroids, sep=',')\n",
    "print(f'read complete. num rows imported: {len(df_centroid)}')\n",
    "\n",
    "##########################################################################\n",
    "# init\n",
    "##########################################################################\n",
    "class_label_name = 'family_name'\n",
    "feature_name = 'standardized_import_functions'\n",
    "feature_name_and_library_name = 'import_functions'\n",
    "sort_feature_name = 'count_import_functions'\n",
    "distance_metric = 'cosine'\n",
    "instance_identifier_name = 'sha256_hash'\n",
    "\n",
    "##########################################################################\n",
    "# vectorize centroid file\n",
    "##########################################################################\n",
    "print(f'Vectorizing dataframe now...')\n",
    "tf_idf_vectorizer = TfidfVectorizer(norm='l2')\n",
    "mtx_tf_idf = tf_idf_vectorizer.fit_transform(df_centroid[feature_name])\n",
    "\n",
    "print(f'vectorization complete. Calculating {distance_metric} pairwise distances now...')\n",
    "# calculate euclidean distance from vectorized input\n",
    "distance_matrix = pairwise_distances(mtx_tf_idf, metric=distance_metric)  # --> metric='cosine'\n",
    "\n",
    "# convert mtx to dataframe for processing\n",
    "df_distance_matrix = pd.DataFrame(distance_matrix, index=df_centroid[instance_identifier_name].tolist(), columns=df_centroid[instance_identifier_name])\n",
    "\n",
    "# store raw output\n",
    "df_distance_matrix.to_csv('./df_distance_matrix_centroid.csv', index=True)\n",
    "\n",
    "########################################################################    \n",
    "# normalize distances and convert to percentage\n",
    "########################################################################    \n",
    "\n",
    "# get the max value for normalization\n",
    "max_distance = np.max(distance_matrix)\n",
    "\n",
    "# calculate distance percentages\n",
    "if distance_metric == 'cosine':\n",
    "    similarity_matrix = (1 - distance_matrix) # values from vectorizer are already L2 normalized, thus since non-negative values, our cosine similarity is guaranteed to be between 0 and 1\n",
    "else:\n",
    "    similarity_matrix = (1 - distance_matrix / max_distance)\n",
    "\n",
    "# convert matrix to dataframe\n",
    "df_similarity_matrix = pd.DataFrame(similarity_matrix, index=df_centroid[instance_identifier_name].tolist(), columns=df_centroid[instance_identifier_name])\n",
    "\n",
    "# store raw output --> INTRODUCE EUCLIDEAN_SIMILARITY\n",
    "df_similarity_matrix.to_csv('./df_similarity_matrix_centroid.csv', index=True)\n",
    "\n",
    "print('drawing interactive 3D chart now...')\n",
    "\n",
    "\n",
    "jitter_value = 0.08\n",
    "chart_title = f'Malware Family 3D Scatter Plot: PCA of Cosine Similarity Matrix with ({jitter_value}) jitter'                               \n",
    "# ==> interactive_3d_scatter_plot(df_similarity_matrix, df_input, 'all_samples', 'cosine', './malware_family_centroids.html', jitter_value, False, 0.60, 'sha256_hash', 'intra_family_cosine_similarity_cluster',  -1, chart_title)\n",
    "\n",
    "print('\\n\\n\\nCOMPLETE!!!!')"
   ]
  },
  {
   "cell_type": "markdown",
   "id": "24b8a51f-ae62-4233-a814-559e462b0454",
   "metadata": {},
   "source": [
    "# Process the Data"
   ]
  },
  {
   "cell_type": "code",
   "execution_count": 8,
   "id": "ac6d57cd-8ba4-4fd6-bfce-fc9efd519ccc",
   "metadata": {},
   "outputs": [
    {
     "name": "stdout",
     "output_type": "stream",
     "text": [
      "Commencing PCA of cosine similarity matrix into 3D scatter plot. Jitter is set to 0.08. cosine_similarity_cluster_threshold_percentage is set to [0.6]...\n"
     ]
    },
    {
     "data": {
      "application/vnd.plotly.v1+json": {
       "config": {
        "plotlyServerURL": "https://plot.ly"
       },
       "data": [
        {
         "customdata": [
          [
           "66e1592e69420d6046dfc44ac8d9c45e9f563fb533cdc13d9565ae6a5438ef51",
           "7ev3n",
           147,
           "Win.Ransomware.Seven-6515188-0",
           "win_7ev3n_auto",
           "398 kB",
           6.387258,
           "7ev3n.0",
           0
          ]
         ],
         "hovertemplate": "family_name=%{customdata[1]}<br>sha256_hash=%{customdata[0]}<br>count_import_functions=%{customdata[2]}<br>clam_av_scan_results=%{customdata[3]}<br>yara_malware=%{customdata[4]}<br>file_size=%{customdata[5]}<br>entropy(min=0.0; max=8.0)=%{customdata[6]}<br>malware_variant_centroid=%{customdata[7]}<extra></extra>",
         "legendgroup": "7ev3n",
         "marker": {
          "color": "#636efa",
          "opacity": 0.6,
          "symbol": "circle"
         },
         "mode": "markers",
         "name": "7ev3n",
         "scene": "scene",
         "showlegend": true,
         "type": "scatter3d",
         "x": [
          0.43196917214364217
         ],
         "y": [
          0.31396042164994237
         ],
         "z": [
          -0.06547574457680892
         ]
        },
        {
         "customdata": [
          [
           "051c85e9afe69007f927e1d480449faf87e9b8e65f77dd628aa7bff72d3b1f50",
           "Bankshot",
           83,
           "OK",
           "-",
           "39 MB",
           7.999961,
           "Bankshot.0",
           1
          ],
          [
           "00e02c85d1f05aba51d991979c8a3e1d3236dc4a3ce0022d209f1aef80eaa188",
           "Bankshot",
           73,
           "Win.Trojan.Autophyte-6582725-0",
           "win_bankshot_auto",
           "129 kB",
           6.557766,
           "Bankshot.1",
           1
          ],
          [
           "032ccd6ae0a6e49ac93b7bd10c7d249f853fff3f5771a1fe3797f733f09db5a0",
           "Bankshot",
           143,
           "OK",
           "-",
           "82 kB",
           5.672838,
           null,
           1
          ],
          [
           "022f393cce30d4b234fa924569c11c7b19004819bdaebb119dc9c8a219626244",
           "Bankshot",
           106,
           "OK",
           "-",
           "144 kB",
           6.70936,
           "Bankshot.3",
           1
          ],
          [
           "01d30c80a5abcd5f520ea2b455c165e1606e5126304d7c607217ee1f0aa4407c",
           "Bankshot",
           149,
           "OK",
           "-",
           "55 MB",
           7.941197,
           "Bankshot.2",
           1
          ],
          [
           "0385b2cb41b302115f307a23a9b860dd709554414b1ae108bbf306f899815b17",
           "Bankshot",
           160,
           "OK",
           "-",
           "39 MB",
           7.999927,
           "Bankshot.4",
           1
          ],
          [
           "0c06e129902925c7ebd70e93d4d09707add781d8bd89cd557cda023045f3853e",
           "Bankshot",
           107,
           "Win.Trojan.Fallchill-6664470-1",
           "-",
           "126 kB",
           6.502616,
           "Bankshot.5",
           1
          ]
         ],
         "hovertemplate": "family_name=%{customdata[1]}<br>sha256_hash=%{customdata[0]}<br>count_import_functions=%{customdata[2]}<br>clam_av_scan_results=%{customdata[3]}<br>yara_malware=%{customdata[4]}<br>file_size=%{customdata[5]}<br>entropy(min=0.0; max=8.0)=%{customdata[6]}<br>malware_variant_centroid=%{customdata[7]}<extra></extra>",
         "legendgroup": "Bankshot",
         "marker": {
          "color": "#EF553B",
          "opacity": 0.6,
          "symbol": "circle"
         },
         "mode": "markers",
         "name": "Bankshot",
         "scene": "scene",
         "showlegend": true,
         "type": "scatter3d",
         "x": [
          -0.3151309974543913,
          1.0517517396476728,
          -0.48889792704850704,
          0.6245180713650376,
          0.28862439564452946,
          -0.6125493656644436,
          0.8077498773693002
         ],
         "y": [
          0.2815979164698698,
          -0.1687109897034825,
          -0.13461783197871433,
          -0.003479866445153847,
          0.2619244120683562,
          0.8107888813768427,
          -0.11028568045193543
         ],
         "z": [
          -0.03186175443077046,
          -0.05809715508659648,
          0.6550516407139336,
          -0.02229071198142179,
          0.0799990544763174,
          -0.3441526903336397,
          0.22341686666557353
         ]
        },
        {
         "customdata": [
          [
           "06fb64ebe50ee96901a339a7c5f686ead86e2ed6b26a7348595839deb611aa96",
           "9002Rat",
           155,
           "Win.Exploit.CVE_2017_0245-6308656-1",
           "-",
           "13 MB",
           7.999872,
           "9002Rat.3",
           2
          ],
          [
           "6cd8eddf21aacaccddffd9949b60201e086ccac434f7074db97fe538f03b600b",
           "9002Rat",
           187,
           "Win.Worm.Chir-1177",
           "-",
           "20 MB",
           7.999106,
           "9002Rat.11",
           2
          ],
          [
           "1442877711143210fc930295ceb55eb711c692bd0cb7cf6ab709be2af4ef0f74",
           "9002Rat",
           70,
           "OK",
           "win_9002_auto",
           "22 kB",
           6.514239,
           "9002Rat.6",
           2
          ],
          [
           "6b5c7fed20f99c633798aac62aafb545f4f602bc6a752e892819c3351bc76068",
           "9002Rat",
           219,
           "OK",
           "-",
           "45 MB",
           7.999091,
           "9002Rat.4",
           2
          ],
          [
           "3101d815aeff2e93f790df215af4970e7677cf2c773274a1d3210307c29384de",
           "9002Rat",
           423,
           "OK",
           "-",
           "20 MB",
           7.992056,
           "9002Rat.2",
           2
          ],
          [
           "0414ffdf9dcf32061cc57d0b54bf4410c1c588258c12615988e3ce8cb0cf4fb4",
           "9002Rat",
           91,
           "OK",
           "-",
           "91 kB",
           5.574268,
           "9002Rat.1",
           2
          ]
         ],
         "hovertemplate": "family_name=%{customdata[1]}<br>sha256_hash=%{customdata[0]}<br>count_import_functions=%{customdata[2]}<br>clam_av_scan_results=%{customdata[3]}<br>yara_malware=%{customdata[4]}<br>file_size=%{customdata[5]}<br>entropy(min=0.0; max=8.0)=%{customdata[6]}<br>malware_variant_centroid=%{customdata[7]}<extra></extra>",
         "legendgroup": "9002Rat",
         "marker": {
          "color": "#00cc96",
          "opacity": 0.6,
          "symbol": "circle"
         },
         "mode": "markers",
         "name": "9002Rat",
         "scene": "scene",
         "showlegend": true,
         "type": "scatter3d",
         "x": [
          -0.5738517626487855,
          -0.5489549536555464,
          -0.5986914346034576,
          0.02380749585120926,
          -0.21012839030375563,
          0.6842262101126726
         ],
         "y": [
          0.7777413579110048,
          0.5307408190757026,
          -0.313336531871277,
          0.6195285501212054,
          0.4738092360243372,
          -0.24430924800268652
         ],
         "z": [
          -0.4100755243375222,
          0.3726960694046589,
          0.9602531527600298,
          -0.07688324786176817,
          0.14327106363616482,
          0.05781709072277192
         ]
        },
        {
         "customdata": [
          [
           "031ebdaf0189694eec6b83ad26e8252547d843780563f54ec06a170f1c0e40d3",
           "AgentTesla",
           1,
           "Win.Trojan.AgentTesla-9939410-2",
           "-",
           "26 kB",
           7.30137,
           "AgentTesla.0",
           3
          ]
         ],
         "hovertemplate": "family_name=%{customdata[1]}<br>sha256_hash=%{customdata[0]}<br>count_import_functions=%{customdata[2]}<br>clam_av_scan_results=%{customdata[3]}<br>yara_malware=%{customdata[4]}<br>file_size=%{customdata[5]}<br>entropy(min=0.0; max=8.0)=%{customdata[6]}<br>malware_variant_centroid=%{customdata[7]}<extra></extra>",
         "legendgroup": "AgentTesla",
         "marker": {
          "color": "#ab63fa",
          "opacity": 0.6,
          "symbol": "circle"
         },
         "mode": "markers",
         "name": "AgentTesla",
         "scene": "scene",
         "showlegend": true,
         "type": "scatter3d",
         "x": [
          -0.9871697767506492
         ],
         "y": [
          -0.4754014183538042
         ],
         "z": [
          0.22935787571204258
         ]
        },
        {
         "customdata": [
          [
           "07e1ed9c60ef84688cb35923166762cff3325e058dff59a65549efcd22297436",
           "Bizarro",
           652,
           "Win.Keylogger.Ulise-9854807-0",
           "-",
           "3.4 MB",
           6.647388,
           null,
           4
          ]
         ],
         "hovertemplate": "family_name=%{customdata[1]}<br>sha256_hash=%{customdata[0]}<br>count_import_functions=%{customdata[2]}<br>clam_av_scan_results=%{customdata[3]}<br>yara_malware=%{customdata[4]}<br>file_size=%{customdata[5]}<br>entropy(min=0.0; max=8.0)=%{customdata[6]}<br>malware_variant_centroid=%{customdata[7]}<extra></extra>",
         "legendgroup": "Bizarro",
         "marker": {
          "color": "#FFA15A",
          "opacity": 0.6,
          "symbol": "circle"
         },
         "mode": "markers",
         "name": "Bizarro",
         "scene": "scene",
         "showlegend": true,
         "type": "scatter3d",
         "x": [
          -0.6098271551195433
         ],
         "y": [
          0.45892061491349445
         ],
         "z": [
          0.09454684406784707
         ]
        },
        {
         "customdata": [
          [
           "004ede55a972e10d9a21bcf338b4907d6eed65bf5ad6abbbd5aec7d8484bdedf",
           "Conti",
           11,
           "Win.Ransomware.Conti-9826703-0",
           "win_conti_auto",
           "103 kB",
           5.855711,
           "Conti.0",
           5
          ],
          [
           "0460cfa76fb0a02be92b0bc99a09168ebe38dbc8eeb1aa966dca66f0e849b53d",
           "Conti",
           66,
           "Win.Ransomware.Conti-9876051-0",
           "win_conti_auto",
           "201 kB",
           6.411731,
           "Conti.1",
           5
          ],
          [
           "3ab3c4ffcf366dcbe660506295dcef82d058cb25b1c0b362cc62371a19a0d5f8",
           "Conti",
           21,
           "Win.Ransomware.Conti-9826703-0",
           "win_conti_auto",
           "53 kB",
           6.021388,
           "Conti.2",
           5
          ],
          [
           "60c16e45c5cbe88a38911f1e3176d90444e4884261d8481d4d719acec1bc5025",
           "Conti",
           78,
           "Win.Ransomware.Ryuk-9852766-0",
           "win_ryuk_auto",
           "140 kB",
           6.357617,
           "Conti.3",
           5
          ],
          [
           "0b0b902af452e1c949a609a3b29a9de21dac639846c77427de06e6e63c1fe904",
           "Conti",
           23,
           "Win.Ransomware.Conti-9826703-0",
           "win_conti_auto",
           "90 kB",
           6.143343,
           "Conti.4",
           5
          ],
          [
           "0fd062f86151b9d49d65b8f12c52737600bff8bb3462aba7bf23d820bf4d5518",
           "Conti",
           3,
           "OK",
           "win_conti_auto",
           "39 kB",
           6.053833,
           "Conti.5",
           5
          ],
          [
           "16cc7519945bace49ef729e69db7d19e00252f2bd559903e1631c8878c2360f4",
           "Conti",
           72,
           "OK",
           "-",
           "167 kB",
           6.417469,
           "Conti.6",
           5
          ]
         ],
         "hovertemplate": "family_name=%{customdata[1]}<br>sha256_hash=%{customdata[0]}<br>count_import_functions=%{customdata[2]}<br>clam_av_scan_results=%{customdata[3]}<br>yara_malware=%{customdata[4]}<br>file_size=%{customdata[5]}<br>entropy(min=0.0; max=8.0)=%{customdata[6]}<br>malware_variant_centroid=%{customdata[7]}<extra></extra>",
         "legendgroup": "Conti",
         "marker": {
          "color": "#19d3f3",
          "opacity": 0.6,
          "symbol": "circle"
         },
         "mode": "markers",
         "name": "Conti",
         "scene": "scene",
         "showlegend": true,
         "type": "scatter3d",
         "x": [
          -0.5867621897663502,
          1.0481796356870205,
          -0.4983547127021406,
          1.0842570643903569,
          -0.3950628366099423,
          -0.4671182588233901,
          1.039203292861269
         ],
         "y": [
          -0.6415150285991594,
          -0.07402948240806853,
          -0.7277014523282042,
          -0.08041098411231672,
          -0.6048167656384145,
          -0.4452908968119328,
          -0.04787904016979752
         ],
         "z": [
          -0.20488067143792277,
          0.019790885458104396,
          -0.41038053892327453,
          -0.01480043703601706,
          -0.4534316718852192,
          -0.21744981237157474,
          0.030011072811546913
         ]
        }
       ],
       "layout": {
        "height": 1000,
        "legend": {
         "title": {
          "text": "family_name"
         },
         "tracegroupgap": 0
        },
        "margin": {
         "b": 0,
         "l": 100,
         "r": 0,
         "t": 30
        },
        "scene": {
         "aspectmode": "auto",
         "aspectratio": {
          "x": 1.2541917614274418,
          "y": 0.9315134202402064,
          "z": 0.8559471303116011
         },
         "camera": {
          "center": {
           "x": 0,
           "y": 0,
           "z": 0
          },
          "eye": {
           "x": 2.1253432058306507,
           "y": 2.1253432058306503,
           "z": 2.1253432058306507
          },
          "projection": {
           "type": "perspective"
          },
          "up": {
           "x": 0,
           "y": 0,
           "z": 1
          }
         },
         "domain": {
          "x": [
           0,
           1
          ],
          "y": [
           0,
           1
          ]
         },
         "xaxis": {
          "title": {
           "text": "PCA Component 1"
          },
          "type": "linear"
         },
         "yaxis": {
          "title": {
           "text": "PCA Component 2"
          },
          "type": "linear"
         },
         "zaxis": {
          "title": {
           "text": "PCA Component 3"
          },
          "type": "linear"
         }
        },
        "template": {
         "data": {
          "bar": [
           {
            "error_x": {
             "color": "#2a3f5f"
            },
            "error_y": {
             "color": "#2a3f5f"
            },
            "marker": {
             "line": {
              "color": "#E5ECF6",
              "width": 0.5
             },
             "pattern": {
              "fillmode": "overlay",
              "size": 10,
              "solidity": 0.2
             }
            },
            "type": "bar"
           }
          ],
          "barpolar": [
           {
            "marker": {
             "line": {
              "color": "#E5ECF6",
              "width": 0.5
             },
             "pattern": {
              "fillmode": "overlay",
              "size": 10,
              "solidity": 0.2
             }
            },
            "type": "barpolar"
           }
          ],
          "carpet": [
           {
            "aaxis": {
             "endlinecolor": "#2a3f5f",
             "gridcolor": "white",
             "linecolor": "white",
             "minorgridcolor": "white",
             "startlinecolor": "#2a3f5f"
            },
            "baxis": {
             "endlinecolor": "#2a3f5f",
             "gridcolor": "white",
             "linecolor": "white",
             "minorgridcolor": "white",
             "startlinecolor": "#2a3f5f"
            },
            "type": "carpet"
           }
          ],
          "choropleth": [
           {
            "colorbar": {
             "outlinewidth": 0,
             "ticks": ""
            },
            "type": "choropleth"
           }
          ],
          "contour": [
           {
            "colorbar": {
             "outlinewidth": 0,
             "ticks": ""
            },
            "colorscale": [
             [
              0,
              "#0d0887"
             ],
             [
              0.1111111111111111,
              "#46039f"
             ],
             [
              0.2222222222222222,
              "#7201a8"
             ],
             [
              0.3333333333333333,
              "#9c179e"
             ],
             [
              0.4444444444444444,
              "#bd3786"
             ],
             [
              0.5555555555555556,
              "#d8576b"
             ],
             [
              0.6666666666666666,
              "#ed7953"
             ],
             [
              0.7777777777777778,
              "#fb9f3a"
             ],
             [
              0.8888888888888888,
              "#fdca26"
             ],
             [
              1,
              "#f0f921"
             ]
            ],
            "type": "contour"
           }
          ],
          "contourcarpet": [
           {
            "colorbar": {
             "outlinewidth": 0,
             "ticks": ""
            },
            "type": "contourcarpet"
           }
          ],
          "heatmap": [
           {
            "colorbar": {
             "outlinewidth": 0,
             "ticks": ""
            },
            "colorscale": [
             [
              0,
              "#0d0887"
             ],
             [
              0.1111111111111111,
              "#46039f"
             ],
             [
              0.2222222222222222,
              "#7201a8"
             ],
             [
              0.3333333333333333,
              "#9c179e"
             ],
             [
              0.4444444444444444,
              "#bd3786"
             ],
             [
              0.5555555555555556,
              "#d8576b"
             ],
             [
              0.6666666666666666,
              "#ed7953"
             ],
             [
              0.7777777777777778,
              "#fb9f3a"
             ],
             [
              0.8888888888888888,
              "#fdca26"
             ],
             [
              1,
              "#f0f921"
             ]
            ],
            "type": "heatmap"
           }
          ],
          "heatmapgl": [
           {
            "colorbar": {
             "outlinewidth": 0,
             "ticks": ""
            },
            "colorscale": [
             [
              0,
              "#0d0887"
             ],
             [
              0.1111111111111111,
              "#46039f"
             ],
             [
              0.2222222222222222,
              "#7201a8"
             ],
             [
              0.3333333333333333,
              "#9c179e"
             ],
             [
              0.4444444444444444,
              "#bd3786"
             ],
             [
              0.5555555555555556,
              "#d8576b"
             ],
             [
              0.6666666666666666,
              "#ed7953"
             ],
             [
              0.7777777777777778,
              "#fb9f3a"
             ],
             [
              0.8888888888888888,
              "#fdca26"
             ],
             [
              1,
              "#f0f921"
             ]
            ],
            "type": "heatmapgl"
           }
          ],
          "histogram": [
           {
            "marker": {
             "pattern": {
              "fillmode": "overlay",
              "size": 10,
              "solidity": 0.2
             }
            },
            "type": "histogram"
           }
          ],
          "histogram2d": [
           {
            "colorbar": {
             "outlinewidth": 0,
             "ticks": ""
            },
            "colorscale": [
             [
              0,
              "#0d0887"
             ],
             [
              0.1111111111111111,
              "#46039f"
             ],
             [
              0.2222222222222222,
              "#7201a8"
             ],
             [
              0.3333333333333333,
              "#9c179e"
             ],
             [
              0.4444444444444444,
              "#bd3786"
             ],
             [
              0.5555555555555556,
              "#d8576b"
             ],
             [
              0.6666666666666666,
              "#ed7953"
             ],
             [
              0.7777777777777778,
              "#fb9f3a"
             ],
             [
              0.8888888888888888,
              "#fdca26"
             ],
             [
              1,
              "#f0f921"
             ]
            ],
            "type": "histogram2d"
           }
          ],
          "histogram2dcontour": [
           {
            "colorbar": {
             "outlinewidth": 0,
             "ticks": ""
            },
            "colorscale": [
             [
              0,
              "#0d0887"
             ],
             [
              0.1111111111111111,
              "#46039f"
             ],
             [
              0.2222222222222222,
              "#7201a8"
             ],
             [
              0.3333333333333333,
              "#9c179e"
             ],
             [
              0.4444444444444444,
              "#bd3786"
             ],
             [
              0.5555555555555556,
              "#d8576b"
             ],
             [
              0.6666666666666666,
              "#ed7953"
             ],
             [
              0.7777777777777778,
              "#fb9f3a"
             ],
             [
              0.8888888888888888,
              "#fdca26"
             ],
             [
              1,
              "#f0f921"
             ]
            ],
            "type": "histogram2dcontour"
           }
          ],
          "mesh3d": [
           {
            "colorbar": {
             "outlinewidth": 0,
             "ticks": ""
            },
            "type": "mesh3d"
           }
          ],
          "parcoords": [
           {
            "line": {
             "colorbar": {
              "outlinewidth": 0,
              "ticks": ""
             }
            },
            "type": "parcoords"
           }
          ],
          "pie": [
           {
            "automargin": true,
            "type": "pie"
           }
          ],
          "scatter": [
           {
            "fillpattern": {
             "fillmode": "overlay",
             "size": 10,
             "solidity": 0.2
            },
            "type": "scatter"
           }
          ],
          "scatter3d": [
           {
            "line": {
             "colorbar": {
              "outlinewidth": 0,
              "ticks": ""
             }
            },
            "marker": {
             "colorbar": {
              "outlinewidth": 0,
              "ticks": ""
             }
            },
            "type": "scatter3d"
           }
          ],
          "scattercarpet": [
           {
            "marker": {
             "colorbar": {
              "outlinewidth": 0,
              "ticks": ""
             }
            },
            "type": "scattercarpet"
           }
          ],
          "scattergeo": [
           {
            "marker": {
             "colorbar": {
              "outlinewidth": 0,
              "ticks": ""
             }
            },
            "type": "scattergeo"
           }
          ],
          "scattergl": [
           {
            "marker": {
             "colorbar": {
              "outlinewidth": 0,
              "ticks": ""
             }
            },
            "type": "scattergl"
           }
          ],
          "scattermapbox": [
           {
            "marker": {
             "colorbar": {
              "outlinewidth": 0,
              "ticks": ""
             }
            },
            "type": "scattermapbox"
           }
          ],
          "scatterpolar": [
           {
            "marker": {
             "colorbar": {
              "outlinewidth": 0,
              "ticks": ""
             }
            },
            "type": "scatterpolar"
           }
          ],
          "scatterpolargl": [
           {
            "marker": {
             "colorbar": {
              "outlinewidth": 0,
              "ticks": ""
             }
            },
            "type": "scatterpolargl"
           }
          ],
          "scatterternary": [
           {
            "marker": {
             "colorbar": {
              "outlinewidth": 0,
              "ticks": ""
             }
            },
            "type": "scatterternary"
           }
          ],
          "surface": [
           {
            "colorbar": {
             "outlinewidth": 0,
             "ticks": ""
            },
            "colorscale": [
             [
              0,
              "#0d0887"
             ],
             [
              0.1111111111111111,
              "#46039f"
             ],
             [
              0.2222222222222222,
              "#7201a8"
             ],
             [
              0.3333333333333333,
              "#9c179e"
             ],
             [
              0.4444444444444444,
              "#bd3786"
             ],
             [
              0.5555555555555556,
              "#d8576b"
             ],
             [
              0.6666666666666666,
              "#ed7953"
             ],
             [
              0.7777777777777778,
              "#fb9f3a"
             ],
             [
              0.8888888888888888,
              "#fdca26"
             ],
             [
              1,
              "#f0f921"
             ]
            ],
            "type": "surface"
           }
          ],
          "table": [
           {
            "cells": {
             "fill": {
              "color": "#EBF0F8"
             },
             "line": {
              "color": "white"
             }
            },
            "header": {
             "fill": {
              "color": "#C8D4E3"
             },
             "line": {
              "color": "white"
             }
            },
            "type": "table"
           }
          ]
         },
         "layout": {
          "annotationdefaults": {
           "arrowcolor": "#2a3f5f",
           "arrowhead": 0,
           "arrowwidth": 1
          },
          "autotypenumbers": "strict",
          "coloraxis": {
           "colorbar": {
            "outlinewidth": 0,
            "ticks": ""
           }
          },
          "colorscale": {
           "diverging": [
            [
             0,
             "#8e0152"
            ],
            [
             0.1,
             "#c51b7d"
            ],
            [
             0.2,
             "#de77ae"
            ],
            [
             0.3,
             "#f1b6da"
            ],
            [
             0.4,
             "#fde0ef"
            ],
            [
             0.5,
             "#f7f7f7"
            ],
            [
             0.6,
             "#e6f5d0"
            ],
            [
             0.7,
             "#b8e186"
            ],
            [
             0.8,
             "#7fbc41"
            ],
            [
             0.9,
             "#4d9221"
            ],
            [
             1,
             "#276419"
            ]
           ],
           "sequential": [
            [
             0,
             "#0d0887"
            ],
            [
             0.1111111111111111,
             "#46039f"
            ],
            [
             0.2222222222222222,
             "#7201a8"
            ],
            [
             0.3333333333333333,
             "#9c179e"
            ],
            [
             0.4444444444444444,
             "#bd3786"
            ],
            [
             0.5555555555555556,
             "#d8576b"
            ],
            [
             0.6666666666666666,
             "#ed7953"
            ],
            [
             0.7777777777777778,
             "#fb9f3a"
            ],
            [
             0.8888888888888888,
             "#fdca26"
            ],
            [
             1,
             "#f0f921"
            ]
           ],
           "sequentialminus": [
            [
             0,
             "#0d0887"
            ],
            [
             0.1111111111111111,
             "#46039f"
            ],
            [
             0.2222222222222222,
             "#7201a8"
            ],
            [
             0.3333333333333333,
             "#9c179e"
            ],
            [
             0.4444444444444444,
             "#bd3786"
            ],
            [
             0.5555555555555556,
             "#d8576b"
            ],
            [
             0.6666666666666666,
             "#ed7953"
            ],
            [
             0.7777777777777778,
             "#fb9f3a"
            ],
            [
             0.8888888888888888,
             "#fdca26"
            ],
            [
             1,
             "#f0f921"
            ]
           ]
          },
          "colorway": [
           "#636efa",
           "#EF553B",
           "#00cc96",
           "#ab63fa",
           "#FFA15A",
           "#19d3f3",
           "#FF6692",
           "#B6E880",
           "#FF97FF",
           "#FECB52"
          ],
          "font": {
           "color": "#2a3f5f"
          },
          "geo": {
           "bgcolor": "white",
           "lakecolor": "white",
           "landcolor": "#E5ECF6",
           "showlakes": true,
           "showland": true,
           "subunitcolor": "white"
          },
          "hoverlabel": {
           "align": "left"
          },
          "hovermode": "closest",
          "mapbox": {
           "style": "light"
          },
          "paper_bgcolor": "white",
          "plot_bgcolor": "#E5ECF6",
          "polar": {
           "angularaxis": {
            "gridcolor": "white",
            "linecolor": "white",
            "ticks": ""
           },
           "bgcolor": "#E5ECF6",
           "radialaxis": {
            "gridcolor": "white",
            "linecolor": "white",
            "ticks": ""
           }
          },
          "scene": {
           "xaxis": {
            "backgroundcolor": "#E5ECF6",
            "gridcolor": "white",
            "gridwidth": 2,
            "linecolor": "white",
            "showbackground": true,
            "ticks": "",
            "zerolinecolor": "white"
           },
           "yaxis": {
            "backgroundcolor": "#E5ECF6",
            "gridcolor": "white",
            "gridwidth": 2,
            "linecolor": "white",
            "showbackground": true,
            "ticks": "",
            "zerolinecolor": "white"
           },
           "zaxis": {
            "backgroundcolor": "#E5ECF6",
            "gridcolor": "white",
            "gridwidth": 2,
            "linecolor": "white",
            "showbackground": true,
            "ticks": "",
            "zerolinecolor": "white"
           }
          },
          "shapedefaults": {
           "line": {
            "color": "#2a3f5f"
           }
          },
          "ternary": {
           "aaxis": {
            "gridcolor": "white",
            "linecolor": "white",
            "ticks": ""
           },
           "baxis": {
            "gridcolor": "white",
            "linecolor": "white",
            "ticks": ""
           },
           "bgcolor": "#E5ECF6",
           "caxis": {
            "gridcolor": "white",
            "linecolor": "white",
            "ticks": ""
           }
          },
          "title": {
           "x": 0.05
          },
          "xaxis": {
           "automargin": true,
           "gridcolor": "white",
           "linecolor": "white",
           "ticks": "",
           "title": {
            "standoff": 15
           },
           "zerolinecolor": "white",
           "zerolinewidth": 2
          },
          "yaxis": {
           "automargin": true,
           "gridcolor": "white",
           "linecolor": "white",
           "ticks": "",
           "title": {
            "standoff": 15
           },
           "zerolinecolor": "white",
           "zerolinewidth": 2
          }
         }
        },
        "title": {
         "text": "Malware Family 3D Scatter Plot: PCA of Cosine Similarity Matrix with (0.08) jitter"
        },
        "width": 1400
       }
      },
      "image/png": "[encoded data removed]",
      "text/html": [
       "<div>                            <div id=\"b4223c91-f6a4-4d10-bdec-2367a5bc5118\" class=\"plotly-graph-div\" style=\"height:1000px; width:1400px;\"></div>            <script type=\"text/javascript\">                require([\"plotly\"], function(Plotly) {                    window.PLOTLYENV=window.PLOTLYENV || {};                                    if (document.getElementById(\"b4223c91-f6a4-4d10-bdec-2367a5bc5118\")) {                    Plotly.newPlot(                        \"b4223c91-f6a4-4d10-bdec-2367a5bc5118\",                        [{\"customdata\":[[\"66e1592e69420d6046dfc44ac8d9c45e9f563fb533cdc13d9565ae6a5438ef51\",\"7ev3n\",147,\"Win.Ransomware.Seven-6515188-0\",\"win_7ev3n_auto\",\"398 kB\",6.387258,\"7ev3n.0\",0]],\"hovertemplate\":\"family_name=%{customdata[1]}<br>sha256_hash=%{customdata[0]}<br>count_import_functions=%{customdata[2]}<br>clam_av_scan_results=%{customdata[3]}<br>yara_malware=%{customdata[4]}<br>file_size=%{customdata[5]}<br>entropy(min=0.0; max=8.0)=%{customdata[6]}<br>malware_variant_centroid=%{customdata[7]}<extra></extra>\",\"legendgroup\":\"7ev3n\",\"marker\":{\"color\":\"#636efa\",\"opacity\":0.6,\"symbol\":\"circle\"},\"mode\":\"markers\",\"name\":\"7ev3n\",\"scene\":\"scene\",\"showlegend\":true,\"x\":[0.43196917214364217],\"y\":[0.31396042164994237],\"z\":[-0.06547574457680892],\"type\":\"scatter3d\"},{\"customdata\":[[\"051c85e9afe69007f927e1d480449faf87e9b8e65f77dd628aa7bff72d3b1f50\",\"Bankshot\",83,\"OK\",\"-\",\"39 MB\",7.999961,\"Bankshot.0\",1],[\"00e02c85d1f05aba51d991979c8a3e1d3236dc4a3ce0022d209f1aef80eaa188\",\"Bankshot\",73,\"Win.Trojan.Autophyte-6582725-0\",\"win_bankshot_auto\",\"129 kB\",6.557766,\"Bankshot.1\",1],[\"032ccd6ae0a6e49ac93b7bd10c7d249f853fff3f5771a1fe3797f733f09db5a0\",\"Bankshot\",143,\"OK\",\"-\",\"82 kB\",5.672838,null,1],[\"022f393cce30d4b234fa924569c11c7b19004819bdaebb119dc9c8a219626244\",\"Bankshot\",106,\"OK\",\"-\",\"144 kB\",6.70936,\"Bankshot.3\",1],[\"01d30c80a5abcd5f520ea2b455c165e1606e5126304d7c607217ee1f0aa4407c\",\"Bankshot\",149,\"OK\",\"-\",\"55 MB\",7.941197,\"Bankshot.2\",1],[\"0385b2cb41b302115f307a23a9b860dd709554414b1ae108bbf306f899815b17\",\"Bankshot\",160,\"OK\",\"-\",\"39 MB\",7.999927,\"Bankshot.4\",1],[\"0c06e129902925c7ebd70e93d4d09707add781d8bd89cd557cda023045f3853e\",\"Bankshot\",107,\"Win.Trojan.Fallchill-6664470-1\",\"-\",\"126 kB\",6.502616,\"Bankshot.5\",1]],\"hovertemplate\":\"family_name=%{customdata[1]}<br>sha256_hash=%{customdata[0]}<br>count_import_functions=%{customdata[2]}<br>clam_av_scan_results=%{customdata[3]}<br>yara_malware=%{customdata[4]}<br>file_size=%{customdata[5]}<br>entropy(min=0.0; max=8.0)=%{customdata[6]}<br>malware_variant_centroid=%{customdata[7]}<extra></extra>\",\"legendgroup\":\"Bankshot\",\"marker\":{\"color\":\"#EF553B\",\"opacity\":0.6,\"symbol\":\"circle\"},\"mode\":\"markers\",\"name\":\"Bankshot\",\"scene\":\"scene\",\"showlegend\":true,\"x\":[-0.3151309974543913,1.0517517396476728,-0.48889792704850704,0.6245180713650376,0.28862439564452946,-0.6125493656644436,0.8077498773693002],\"y\":[0.2815979164698698,-0.1687109897034825,-0.13461783197871433,-0.003479866445153847,0.2619244120683562,0.8107888813768427,-0.11028568045193543],\"z\":[-0.03186175443077046,-0.05809715508659648,0.6550516407139336,-0.02229071198142179,0.0799990544763174,-0.3441526903336397,0.22341686666557353],\"type\":\"scatter3d\"},{\"customdata\":[[\"06fb64ebe50ee96901a339a7c5f686ead86e2ed6b26a7348595839deb611aa96\",\"9002Rat\",155,\"Win.Exploit.CVE_2017_0245-6308656-1\",\"-\",\"13 MB\",7.999872,\"9002Rat.3\",2],[\"6cd8eddf21aacaccddffd9949b60201e086ccac434f7074db97fe538f03b600b\",\"9002Rat\",187,\"Win.Worm.Chir-1177\",\"-\",\"20 MB\",7.999106,\"9002Rat.11\",2],[\"1442877711143210fc930295ceb55eb711c692bd0cb7cf6ab709be2af4ef0f74\",\"9002Rat\",70,\"OK\",\"win_9002_auto\",\"22 kB\",6.514239,\"9002Rat.6\",2],[\"6b5c7fed20f99c633798aac62aafb545f4f602bc6a752e892819c3351bc76068\",\"9002Rat\",219,\"OK\",\"-\",\"45 MB\",7.999091,\"9002Rat.4\",2],[\"3101d815aeff2e93f790df215af4970e7677cf2c773274a1d3210307c29384de\",\"9002Rat\",423,\"OK\",\"-\",\"20 MB\",7.992056,\"9002Rat.2\",2],[\"0414ffdf9dcf32061cc57d0b54bf4410c1c588258c12615988e3ce8cb0cf4fb4\",\"9002Rat\",91,\"OK\",\"-\",\"91 kB\",5.574268,\"9002Rat.1\",2]],\"hovertemplate\":\"family_name=%{customdata[1]}<br>sha256_hash=%{customdata[0]}<br>count_import_functions=%{customdata[2]}<br>clam_av_scan_results=%{customdata[3]}<br>yara_malware=%{customdata[4]}<br>file_size=%{customdata[5]}<br>entropy(min=0.0; max=8.0)=%{customdata[6]}<br>malware_variant_centroid=%{customdata[7]}<extra></extra>\",\"legendgroup\":\"9002Rat\",\"marker\":{\"color\":\"#00cc96\",\"opacity\":0.6,\"symbol\":\"circle\"},\"mode\":\"markers\",\"name\":\"9002Rat\",\"scene\":\"scene\",\"showlegend\":true,\"x\":[-0.5738517626487855,-0.5489549536555464,-0.5986914346034576,0.02380749585120926,-0.21012839030375563,0.6842262101126726],\"y\":[0.7777413579110048,0.5307408190757026,-0.313336531871277,0.6195285501212054,0.4738092360243372,-0.24430924800268652],\"z\":[-0.4100755243375222,0.3726960694046589,0.9602531527600298,-0.07688324786176817,0.14327106363616482,0.05781709072277192],\"type\":\"scatter3d\"},{\"customdata\":[[\"031ebdaf0189694eec6b83ad26e8252547d843780563f54ec06a170f1c0e40d3\",\"AgentTesla\",1,\"Win.Trojan.AgentTesla-9939410-2\",\"-\",\"26 kB\",7.30137,\"AgentTesla.0\",3]],\"hovertemplate\":\"family_name=%{customdata[1]}<br>sha256_hash=%{customdata[0]}<br>count_import_functions=%{customdata[2]}<br>clam_av_scan_results=%{customdata[3]}<br>yara_malware=%{customdata[4]}<br>file_size=%{customdata[5]}<br>entropy(min=0.0; max=8.0)=%{customdata[6]}<br>malware_variant_centroid=%{customdata[7]}<extra></extra>\",\"legendgroup\":\"AgentTesla\",\"marker\":{\"color\":\"#ab63fa\",\"opacity\":0.6,\"symbol\":\"circle\"},\"mode\":\"markers\",\"name\":\"AgentTesla\",\"scene\":\"scene\",\"showlegend\":true,\"x\":[-0.9871697767506492],\"y\":[-0.4754014183538042],\"z\":[0.22935787571204258],\"type\":\"scatter3d\"},{\"customdata\":[[\"07e1ed9c60ef84688cb35923166762cff3325e058dff59a65549efcd22297436\",\"Bizarro\",652,\"Win.Keylogger.Ulise-9854807-0\",\"-\",\"3.4 MB\",6.647388,null,4]],\"hovertemplate\":\"family_name=%{customdata[1]}<br>sha256_hash=%{customdata[0]}<br>count_import_functions=%{customdata[2]}<br>clam_av_scan_results=%{customdata[3]}<br>yara_malware=%{customdata[4]}<br>file_size=%{customdata[5]}<br>entropy(min=0.0; max=8.0)=%{customdata[6]}<br>malware_variant_centroid=%{customdata[7]}<extra></extra>\",\"legendgroup\":\"Bizarro\",\"marker\":{\"color\":\"#FFA15A\",\"opacity\":0.6,\"symbol\":\"circle\"},\"mode\":\"markers\",\"name\":\"Bizarro\",\"scene\":\"scene\",\"showlegend\":true,\"x\":[-0.6098271551195433],\"y\":[0.45892061491349445],\"z\":[0.09454684406784707],\"type\":\"scatter3d\"},{\"customdata\":[[\"004ede55a972e10d9a21bcf338b4907d6eed65bf5ad6abbbd5aec7d8484bdedf\",\"Conti\",11,\"Win.Ransomware.Conti-9826703-0\",\"win_conti_auto\",\"103 kB\",5.855711,\"Conti.0\",5],[\"0460cfa76fb0a02be92b0bc99a09168ebe38dbc8eeb1aa966dca66f0e849b53d\",\"Conti\",66,\"Win.Ransomware.Conti-9876051-0\",\"win_conti_auto\",\"201 kB\",6.411731,\"Conti.1\",5],[\"3ab3c4ffcf366dcbe660506295dcef82d058cb25b1c0b362cc62371a19a0d5f8\",\"Conti\",21,\"Win.Ransomware.Conti-9826703-0\",\"win_conti_auto\",\"53 kB\",6.021388,\"Conti.2\",5],[\"60c16e45c5cbe88a38911f1e3176d90444e4884261d8481d4d719acec1bc5025\",\"Conti\",78,\"Win.Ransomware.Ryuk-9852766-0\",\"win_ryuk_auto\",\"140 kB\",6.357617,\"Conti.3\",5],[\"0b0b902af452e1c949a609a3b29a9de21dac639846c77427de06e6e63c1fe904\",\"Conti\",23,\"Win.Ransomware.Conti-9826703-0\",\"win_conti_auto\",\"90 kB\",6.143343,\"Conti.4\",5],[\"0fd062f86151b9d49d65b8f12c52737600bff8bb3462aba7bf23d820bf4d5518\",\"Conti\",3,\"OK\",\"win_conti_auto\",\"39 kB\",6.053833,\"Conti.5\",5],[\"16cc7519945bace49ef729e69db7d19e00252f2bd559903e1631c8878c2360f4\",\"Conti\",72,\"OK\",\"-\",\"167 kB\",6.417469,\"Conti.6\",5]],\"hovertemplate\":\"family_name=%{customdata[1]}<br>sha256_hash=%{customdata[0]}<br>count_import_functions=%{customdata[2]}<br>clam_av_scan_results=%{customdata[3]}<br>yara_malware=%{customdata[4]}<br>file_size=%{customdata[5]}<br>entropy(min=0.0; max=8.0)=%{customdata[6]}<br>malware_variant_centroid=%{customdata[7]}<extra></extra>\",\"legendgroup\":\"Conti\",\"marker\":{\"color\":\"#19d3f3\",\"opacity\":0.6,\"symbol\":\"circle\"},\"mode\":\"markers\",\"name\":\"Conti\",\"scene\":\"scene\",\"showlegend\":true,\"x\":[-0.5867621897663502,1.0481796356870205,-0.4983547127021406,1.0842570643903569,-0.3950628366099423,-0.4671182588233901,1.039203292861269],\"y\":[-0.6415150285991594,-0.07402948240806853,-0.7277014523282042,-0.08041098411231672,-0.6048167656384145,-0.4452908968119328,-0.04787904016979752],\"z\":[-0.20488067143792277,0.019790885458104396,-0.41038053892327453,-0.01480043703601706,-0.4534316718852192,-0.21744981237157474,0.030011072811546913],\"type\":\"scatter3d\"}],                        {\"template\":{\"data\":{\"histogram2dcontour\":[{\"type\":\"histogram2dcontour\",\"colorbar\":{\"outlinewidth\":0,\"ticks\":\"\"},\"colorscale\":[[0.0,\"#0d0887\"],[0.1111111111111111,\"#46039f\"],[0.2222222222222222,\"#7201a8\"],[0.3333333333333333,\"#9c179e\"],[0.4444444444444444,\"#bd3786\"],[0.5555555555555556,\"#d8576b\"],[0.6666666666666666,\"#ed7953\"],[0.7777777777777778,\"#fb9f3a\"],[0.8888888888888888,\"#fdca26\"],[1.0,\"#f0f921\"]]}],\"choropleth\":[{\"type\":\"choropleth\",\"colorbar\":{\"outlinewidth\":0,\"ticks\":\"\"}}],\"histogram2d\":[{\"type\":\"histogram2d\",\"colorbar\":{\"outlinewidth\":0,\"ticks\":\"\"},\"colorscale\":[[0.0,\"#0d0887\"],[0.1111111111111111,\"#46039f\"],[0.2222222222222222,\"#7201a8\"],[0.3333333333333333,\"#9c179e\"],[0.4444444444444444,\"#bd3786\"],[0.5555555555555556,\"#d8576b\"],[0.6666666666666666,\"#ed7953\"],[0.7777777777777778,\"#fb9f3a\"],[0.8888888888888888,\"#fdca26\"],[1.0,\"#f0f921\"]]}],\"heatmap\":[{\"type\":\"heatmap\",\"colorbar\":{\"outlinewidth\":0,\"ticks\":\"\"},\"colorscale\":[[0.0,\"#0d0887\"],[0.1111111111111111,\"#46039f\"],[0.2222222222222222,\"#7201a8\"],[0.3333333333333333,\"#9c179e\"],[0.4444444444444444,\"#bd3786\"],[0.5555555555555556,\"#d8576b\"],[0.6666666666666666,\"#ed7953\"],[0.7777777777777778,\"#fb9f3a\"],[0.8888888888888888,\"#fdca26\"],[1.0,\"#f0f921\"]]}],\"heatmapgl\":[{\"type\":\"heatmapgl\",\"colorbar\":{\"outlinewidth\":0,\"ticks\":\"\"},\"colorscale\":[[0.0,\"#0d0887\"],[0.1111111111111111,\"#46039f\"],[0.2222222222222222,\"#7201a8\"],[0.3333333333333333,\"#9c179e\"],[0.4444444444444444,\"#bd3786\"],[0.5555555555555556,\"#d8576b\"],[0.6666666666666666,\"#ed7953\"],[0.7777777777777778,\"#fb9f3a\"],[0.8888888888888888,\"#fdca26\"],[1.0,\"#f0f921\"]]}],\"contourcarpet\":[{\"type\":\"contourcarpet\",\"colorbar\":{\"outlinewidth\":0,\"ticks\":\"\"}}],\"contour\":[{\"type\":\"contour\",\"colorbar\":{\"outlinewidth\":0,\"ticks\":\"\"},\"colorscale\":[[0.0,\"#0d0887\"],[0.1111111111111111,\"#46039f\"],[0.2222222222222222,\"#7201a8\"],[0.3333333333333333,\"#9c179e\"],[0.4444444444444444,\"#bd3786\"],[0.5555555555555556,\"#d8576b\"],[0.6666666666666666,\"#ed7953\"],[0.7777777777777778,\"#fb9f3a\"],[0.8888888888888888,\"#fdca26\"],[1.0,\"#f0f921\"]]}],\"surface\":[{\"type\":\"surface\",\"colorbar\":{\"outlinewidth\":0,\"ticks\":\"\"},\"colorscale\":[[0.0,\"#0d0887\"],[0.1111111111111111,\"#46039f\"],[0.2222222222222222,\"#7201a8\"],[0.3333333333333333,\"#9c179e\"],[0.4444444444444444,\"#bd3786\"],[0.5555555555555556,\"#d8576b\"],[0.6666666666666666,\"#ed7953\"],[0.7777777777777778,\"#fb9f3a\"],[0.8888888888888888,\"#fdca26\"],[1.0,\"#f0f921\"]]}],\"mesh3d\":[{\"type\":\"mesh3d\",\"colorbar\":{\"outlinewidth\":0,\"ticks\":\"\"}}],\"scatter\":[{\"fillpattern\":{\"fillmode\":\"overlay\",\"size\":10,\"solidity\":0.2},\"type\":\"scatter\"}],\"parcoords\":[{\"type\":\"parcoords\",\"line\":{\"colorbar\":{\"outlinewidth\":0,\"ticks\":\"\"}}}],\"scatterpolargl\":[{\"type\":\"scatterpolargl\",\"marker\":{\"colorbar\":{\"outlinewidth\":0,\"ticks\":\"\"}}}],\"bar\":[{\"error_x\":{\"color\":\"#2a3f5f\"},\"error_y\":{\"color\":\"#2a3f5f\"},\"marker\":{\"line\":{\"color\":\"#E5ECF6\",\"width\":0.5},\"pattern\":{\"fillmode\":\"overlay\",\"size\":10,\"solidity\":0.2}},\"type\":\"bar\"}],\"scattergeo\":[{\"type\":\"scattergeo\",\"marker\":{\"colorbar\":{\"outlinewidth\":0,\"ticks\":\"\"}}}],\"scatterpolar\":[{\"type\":\"scatterpolar\",\"marker\":{\"colorbar\":{\"outlinewidth\":0,\"ticks\":\"\"}}}],\"histogram\":[{\"marker\":{\"pattern\":{\"fillmode\":\"overlay\",\"size\":10,\"solidity\":0.2}},\"type\":\"histogram\"}],\"scattergl\":[{\"type\":\"scattergl\",\"marker\":{\"colorbar\":{\"outlinewidth\":0,\"ticks\":\"\"}}}],\"scatter3d\":[{\"type\":\"scatter3d\",\"line\":{\"colorbar\":{\"outlinewidth\":0,\"ticks\":\"\"}},\"marker\":{\"colorbar\":{\"outlinewidth\":0,\"ticks\":\"\"}}}],\"scattermapbox\":[{\"type\":\"scattermapbox\",\"marker\":{\"colorbar\":{\"outlinewidth\":0,\"ticks\":\"\"}}}],\"scatterternary\":[{\"type\":\"scatterternary\",\"marker\":{\"colorbar\":{\"outlinewidth\":0,\"ticks\":\"\"}}}],\"scattercarpet\":[{\"type\":\"scattercarpet\",\"marker\":{\"colorbar\":{\"outlinewidth\":0,\"ticks\":\"\"}}}],\"carpet\":[{\"aaxis\":{\"endlinecolor\":\"#2a3f5f\",\"gridcolor\":\"white\",\"linecolor\":\"white\",\"minorgridcolor\":\"white\",\"startlinecolor\":\"#2a3f5f\"},\"baxis\":{\"endlinecolor\":\"#2a3f5f\",\"gridcolor\":\"white\",\"linecolor\":\"white\",\"minorgridcolor\":\"white\",\"startlinecolor\":\"#2a3f5f\"},\"type\":\"carpet\"}],\"table\":[{\"cells\":{\"fill\":{\"color\":\"#EBF0F8\"},\"line\":{\"color\":\"white\"}},\"header\":{\"fill\":{\"color\":\"#C8D4E3\"},\"line\":{\"color\":\"white\"}},\"type\":\"table\"}],\"barpolar\":[{\"marker\":{\"line\":{\"color\":\"#E5ECF6\",\"width\":0.5},\"pattern\":{\"fillmode\":\"overlay\",\"size\":10,\"solidity\":0.2}},\"type\":\"barpolar\"}],\"pie\":[{\"automargin\":true,\"type\":\"pie\"}]},\"layout\":{\"autotypenumbers\":\"strict\",\"colorway\":[\"#636efa\",\"#EF553B\",\"#00cc96\",\"#ab63fa\",\"#FFA15A\",\"#19d3f3\",\"#FF6692\",\"#B6E880\",\"#FF97FF\",\"#FECB52\"],\"font\":{\"color\":\"#2a3f5f\"},\"hovermode\":\"closest\",\"hoverlabel\":{\"align\":\"left\"},\"paper_bgcolor\":\"white\",\"plot_bgcolor\":\"#E5ECF6\",\"polar\":{\"bgcolor\":\"#E5ECF6\",\"angularaxis\":{\"gridcolor\":\"white\",\"linecolor\":\"white\",\"ticks\":\"\"},\"radialaxis\":{\"gridcolor\":\"white\",\"linecolor\":\"white\",\"ticks\":\"\"}},\"ternary\":{\"bgcolor\":\"#E5ECF6\",\"aaxis\":{\"gridcolor\":\"white\",\"linecolor\":\"white\",\"ticks\":\"\"},\"baxis\":{\"gridcolor\":\"white\",\"linecolor\":\"white\",\"ticks\":\"\"},\"caxis\":{\"gridcolor\":\"white\",\"linecolor\":\"white\",\"ticks\":\"\"}},\"coloraxis\":{\"colorbar\":{\"outlinewidth\":0,\"ticks\":\"\"}},\"colorscale\":{\"sequential\":[[0.0,\"#0d0887\"],[0.1111111111111111,\"#46039f\"],[0.2222222222222222,\"#7201a8\"],[0.3333333333333333,\"#9c179e\"],[0.4444444444444444,\"#bd3786\"],[0.5555555555555556,\"#d8576b\"],[0.6666666666666666,\"#ed7953\"],[0.7777777777777778,\"#fb9f3a\"],[0.8888888888888888,\"#fdca26\"],[1.0,\"#f0f921\"]],\"sequentialminus\":[[0.0,\"#0d0887\"],[0.1111111111111111,\"#46039f\"],[0.2222222222222222,\"#7201a8\"],[0.3333333333333333,\"#9c179e\"],[0.4444444444444444,\"#bd3786\"],[0.5555555555555556,\"#d8576b\"],[0.6666666666666666,\"#ed7953\"],[0.7777777777777778,\"#fb9f3a\"],[0.8888888888888888,\"#fdca26\"],[1.0,\"#f0f921\"]],\"diverging\":[[0,\"#8e0152\"],[0.1,\"#c51b7d\"],[0.2,\"#de77ae\"],[0.3,\"#f1b6da\"],[0.4,\"#fde0ef\"],[0.5,\"#f7f7f7\"],[0.6,\"#e6f5d0\"],[0.7,\"#b8e186\"],[0.8,\"#7fbc41\"],[0.9,\"#4d9221\"],[1,\"#276419\"]]},\"xaxis\":{\"gridcolor\":\"white\",\"linecolor\":\"white\",\"ticks\":\"\",\"title\":{\"standoff\":15},\"zerolinecolor\":\"white\",\"automargin\":true,\"zerolinewidth\":2},\"yaxis\":{\"gridcolor\":\"white\",\"linecolor\":\"white\",\"ticks\":\"\",\"title\":{\"standoff\":15},\"zerolinecolor\":\"white\",\"automargin\":true,\"zerolinewidth\":2},\"scene\":{\"xaxis\":{\"backgroundcolor\":\"#E5ECF6\",\"gridcolor\":\"white\",\"linecolor\":\"white\",\"showbackground\":true,\"ticks\":\"\",\"zerolinecolor\":\"white\",\"gridwidth\":2},\"yaxis\":{\"backgroundcolor\":\"#E5ECF6\",\"gridcolor\":\"white\",\"linecolor\":\"white\",\"showbackground\":true,\"ticks\":\"\",\"zerolinecolor\":\"white\",\"gridwidth\":2},\"zaxis\":{\"backgroundcolor\":\"#E5ECF6\",\"gridcolor\":\"white\",\"linecolor\":\"white\",\"showbackground\":true,\"ticks\":\"\",\"zerolinecolor\":\"white\",\"gridwidth\":2}},\"shapedefaults\":{\"line\":{\"color\":\"#2a3f5f\"}},\"annotationdefaults\":{\"arrowcolor\":\"#2a3f5f\",\"arrowhead\":0,\"arrowwidth\":1},\"geo\":{\"bgcolor\":\"white\",\"landcolor\":\"#E5ECF6\",\"subunitcolor\":\"white\",\"showland\":true,\"showlakes\":true,\"lakecolor\":\"white\"},\"title\":{\"x\":0.05},\"mapbox\":{\"style\":\"light\"}}},\"scene\":{\"domain\":{\"x\":[0.0,1.0],\"y\":[0.0,1.0]},\"xaxis\":{\"title\":{\"text\":\"PCA Component 1\"}},\"yaxis\":{\"title\":{\"text\":\"PCA Component 2\"}},\"zaxis\":{\"title\":{\"text\":\"PCA Component 3\"}}},\"legend\":{\"title\":{\"text\":\"family_name\"},\"tracegroupgap\":0},\"margin\":{\"t\":30,\"l\":100,\"r\":0,\"b\":0},\"title\":{\"text\":\"Malware Family 3D Scatter Plot: PCA of Cosine Similarity Matrix with (0.08) jitter\"},\"width\":1400,\"height\":1000},                        {\"responsive\": true}                    ).then(function(){\n",
       "                            \n",
       "var gd = document.getElementById('b4223c91-f6a4-4d10-bdec-2367a5bc5118');\n",
       "var x = new MutationObserver(function (mutations, observer) {{\n",
       "        var display = window.getComputedStyle(gd).display;\n",
       "        if (!display || display === 'none') {{\n",
       "            console.log([gd, 'removed!']);\n",
       "            Plotly.purge(gd);\n",
       "            observer.disconnect();\n",
       "        }}\n",
       "}});\n",
       "\n",
       "// Listen for the removal of the full notebook cells\n",
       "var notebookContainer = gd.closest('#notebook-container');\n",
       "if (notebookContainer) {{\n",
       "    x.observe(notebookContainer, {childList: true});\n",
       "}}\n",
       "\n",
       "// Listen for the clearing of the current output cell\n",
       "var outputEl = gd.closest('.output');\n",
       "if (outputEl) {{\n",
       "    x.observe(outputEl, {childList: true});\n",
       "}}\n",
       "\n",
       "                        })                };                });            </script>        </div>"
      ]
     },
     "metadata": {},
     "output_type": "display_data"
    },
    {
     "name": "stdout",
     "output_type": "stream",
     "text": [
      "COMPLETE! Interactive 3D scatter plot saved to --> ./malware_family_centroids.html\n"
     ]
    }
   ],
   "source": [
    "cosine_similarity_cluster_threshold_percentage = 0.60\n",
    "optimal_k = -1\n",
    "instance_identifier = 'sha256_hash'\n",
    "#df_original_dataset = df_input\n",
    "cluster_feature_name = 'intra_family_cosine_similarity_cluster'\n",
    "output_path = './malware_family_centroids.html'\n",
    "distance_metric = 'cosine'\n",
    "jitter_value = 0.08\n",
    "####################################\n",
    "\n",
    "\n",
    "##################################\n",
    "# create unique index for each malware family mapping\n",
    "unique_malware_family = df_centroid['family_name'].unique()\n",
    "family_name_to_index = {family: idx for idx, family in enumerate(unique_malware_family)}\n",
    "\n",
    "df_centroid['family_name_index'] = df_centroid['family_name'].map(family_name_to_index)\n",
    "\n",
    "\n",
    "##################################\n",
    "\n",
    "#try:\n",
    "# notify\n",
    "if cosine_similarity_cluster_threshold_percentage > -1:\n",
    "    print(f'Commencing PCA of {distance_metric} similarity matrix into 3D scatter plot. Jitter is set to {jitter_value}. cosine_similarity_cluster_threshold_percentage is set to [{cosine_similarity_cluster_threshold_percentage}]...')\n",
    "else:\n",
    "    print(f'Commencing PCA of {distance_metric} into 3D scatter plot. Jitter is set to {jitter_value}. optimal_k is set to [{optimal_k}]...')      \n",
    "\n",
    "if optimal_k > 0:\n",
    "    chart_title = str(chart_title) + '. Optimal k: [' + str(optimal_k) + ']'\n",
    "\n",
    "########################################################################\n",
    "# validate at least 3 instances exist for PCA to 3D\n",
    "########################################################################\n",
    "if len(df_similarity_matrix) < 3:\n",
    "    print(f\"PUNT! I can not proceed with PCA for this similarity matrix. I require at least 3 instances to continue. I was provided: [{len(df_similarity_matrix)}]\")\n",
    "    \n",
    "\n",
    "########################################################################\n",
    "# Perform PCA to reduce the dimensions to 3D for the scatter plot\n",
    "########################################################################            \n",
    "pca = PCA(n_components=3)\n",
    "pca_result = pca.fit_transform(df_similarity_matrix)\n",
    "\n",
    "# Add jitter to avoid overlap\n",
    "jitter = jitter_value * np.random.randn(*pca_result.shape)\n",
    "pca_result_jitter = pca_result + jitter\n",
    "\n",
    "# Create a DataFrame for the PCA results\n",
    "df_pca = pd.DataFrame({\n",
    "    'PCA Component 1': pca_result_jitter[:, 0],\n",
    "    'PCA Component 2': pca_result_jitter[:, 1],\n",
    "    'PCA Component 3': pca_result_jitter[:, 2],\n",
    "    instance_identifier: df_similarity_matrix.index\n",
    "})            \n",
    "\n",
    "\n",
    "########################################################################\n",
    "# merge df features with pca df\n",
    "########################################################################\n",
    "\n",
    "\n",
    "# Merge the selected features back into df_pca\n",
    "df_pca_with_features = df_pca.merge(df_centroid, on=instance_identifier, how='left')\n",
    "\n",
    "\n",
    "########################################################################\n",
    "# update label into df\n",
    "########################################################################\n",
    "#df_pca_with_features['family_name'] = label\n",
    "\n",
    "# Directly get the count_import_functions for the new column\n",
    "#df_pca_with_features['count_imports'] = df_selected_features['count_import_functions']\n",
    "\n",
    "\n",
    "########################################################################\n",
    "# Create a 3D scatter plot using Plotly\n",
    "########################################################################\n",
    "fig = px.scatter_3d(\n",
    "    df_pca_with_features, \n",
    "    x='PCA Component 1', \n",
    "    y='PCA Component 2', \n",
    "    z='PCA Component 3',     \n",
    "    color='family_name',    \n",
    "    opacity=0.6,     \n",
    "    hover_data={'sha256_hash': True, \n",
    "                'family_name': True,\n",
    "                'count_import_functions': True,\n",
    "                'clam_av_scan_results': True, \n",
    "                'yara_malware': True,\n",
    "                'file_size': True,\n",
    "                'entropy(min=0.0; max=8.0)': True,\n",
    "                'malware_variant_centroid': True,                \n",
    "                #'time_stamp': True, \n",
    "                'PCA Component 1': False, \n",
    "                'PCA Component 2': False, \n",
    "                'PCA Component 3': False, \n",
    "                'family_name_index': False}\n",
    ")\n",
    "\n",
    "# Optional: Tight layout\n",
    "fig.update_layout(title=chart_title,\n",
    "                  margin=dict(l=100, r=0, b=0, t=30), \n",
    "                  width=1400,  # Adjust width\n",
    "                  height=1000   # Adjust height\n",
    "                 )\n",
    "\n",
    "########################################################################\n",
    "# save the plot\n",
    "########################################################################\n",
    "fig.write_html(output_path)\n",
    "fig.show()\n",
    "print(f\"COMPLETE! Interactive 3D scatter plot saved to --> {output_path}\")"
   ]
  },
  {
   "cell_type": "markdown",
   "id": "b7da45e6-8871-4477-8c35-408afdcf7849",
   "metadata": {},
   "source": [
    "# <span style=\"color:purple\">  Classify an Instance! </span>"
   ]
  },
  {
   "cell_type": "code",
   "execution_count": 9,
   "id": "7e51346a-fb64-4cff-a511-aaa4c48425d3",
   "metadata": {},
   "outputs": [
    {
     "name": "stdout",
     "output_type": "stream",
     "text": [
      "Predicted malware family class for instance: [4ccc43857ccae3151a66d645dd90c36275b32eddf7fa0857da9a7a53ac4481d7] ==> 9002Rat - Malware Family Variant: 9002Rat.6\n"
     ]
    }
   ],
   "source": [
    "# Instance identifier for classification\n",
    "instance_indentifier_to_classify = '4ccc43857ccae3151a66d645dd90c36275b32eddf7fa0857da9a7a53ac4481d7'\n",
    "\n",
    "# Get the instance to classify\n",
    "instance_to_classify = df_input[df_input['sha256_hash'] == instance_indentifier_to_classify]\n",
    "\n",
    "# Vectorize the instance using the same vectorizer used on the classification dataset\n",
    "sparse_mtx_instance_to_classify = tf_idf_vectorizer.transform(instance_to_classify[feature_name])\n",
    "\n",
    "# Calculate cosine distances between the new instance and all centroids\n",
    "distance_to_centroids = pairwise_distances(sparse_mtx_instance_to_classify, mtx_tf_idf, metric=distance_metric)\n",
    "\n",
    "# Convert distances to a DataFrame for easier handling\n",
    "df_distances_instance_to_centroid = pd.DataFrame(distance_to_centroids, index=[instance_indentifier_to_classify],  \n",
    "                                                 columns=df_centroid[instance_identifier_name])\n",
    "\n",
    "# Find the closest centroid by finding the index of the minimum distance\n",
    "closest_centroid_idx = df_distances_instance_to_centroid.iloc[0].idxmin()\n",
    "\n",
    "# Get the closest centroid's details (including family name)\n",
    "df_closest_centroid = df_centroid[df_centroid[instance_identifier_name] == closest_centroid_idx]\n",
    "\n",
    "# Output the family name of the closest centroid\n",
    "predicted_family = df_closest_centroid[class_label_name].values[0]\n",
    "predicted_malware_family_variant = df_closest_centroid[\"malware_variant\"].values[0]\n",
    "\n",
    "# Notify\n",
    "print(f'Predicted malware family class for instance: [{instance_indentifier_to_classify}] ==> {predicted_family} - Malware Family Variant: {predicted_malware_family_variant}')\n",
    "\n",
    "########################################################################    \n",
    "# Normalize distances to percentage\n",
    "########################################################################    \n",
    "\n",
    "# Get the max value for normalization\n",
    "max_distance = np.max(distance_to_centroids)\n",
    "\n",
    "# Avoid division by zero (in case max distance is 0)\n",
    "if max_distance == 0:\n",
    "    max_distance = 1\n",
    "\n",
    "# Calculate similarity matrix based on distance metric\n",
    "if distance_metric == 'cosine':\n",
    "    # Cosine similarity is 1 - cosine distance (values range between 0 and 1)\n",
    "    similarity_matrix = 1 - distance_to_centroids\n",
    "else:\n",
    "    # Normalize other distances by dividing by max distance (values range between 0 and 1)\n",
    "    similarity_matrix = 1 - (distance_to_centroids / max_distance)\n",
    "\n",
    "# Convert similarity matrix to percentage\n",
    "#similarity_percentage_matrix = similarity_matrix * 100\n",
    "\n",
    "# Convert matrix to DataFrame for easier handling (use the instance identifier as the row index)\n",
    "df_similarity_matrix = pd.DataFrame(similarity_matrix, index=[instance_indentifier_to_classify], columns=df_centroid[instance_identifier_name])\n",
    "\n",
    "# Display the similarity percentage matrix\n",
    "#df_similarity_matrix\n"
   ]
  },
  {
   "cell_type": "markdown",
   "id": "23cbaa98-2152-401b-acd9-522725339fc2",
   "metadata": {},
   "source": [
    "### View Distance Matrix (this is argmin, i.e., the smallest distance is the centroid of greatest similarity)"
   ]
  },
  {
   "cell_type": "code",
   "execution_count": 11,
   "id": "4febbbe3-9392-48b1-94e5-93953339754c",
   "metadata": {},
   "outputs": [
    {
     "data": {
      "text/html": [
       "<div>\n",
       "<style scoped>\n",
       "    .dataframe tbody tr th:only-of-type {\n",
       "        vertical-align: middle;\n",
       "    }\n",
       "\n",
       "    .dataframe tbody tr th {\n",
       "        vertical-align: top;\n",
       "    }\n",
       "\n",
       "    .dataframe thead th {\n",
       "        text-align: right;\n",
       "    }\n",
       "</style>\n",
       "<table border=\"1\" class=\"dataframe\">\n",
       "  <thead>\n",
       "    <tr style=\"text-align: right;\">\n",
       "      <th>sha256_hash</th>\n",
       "      <th>66e1592e69420d6046dfc44ac8d9c45e9f563fb533cdc13d9565ae6a5438ef51</th>\n",
       "      <th>051c85e9afe69007f927e1d480449faf87e9b8e65f77dd628aa7bff72d3b1f50</th>\n",
       "      <th>00e02c85d1f05aba51d991979c8a3e1d3236dc4a3ce0022d209f1aef80eaa188</th>\n",
       "      <th>032ccd6ae0a6e49ac93b7bd10c7d249f853fff3f5771a1fe3797f733f09db5a0</th>\n",
       "      <th>022f393cce30d4b234fa924569c11c7b19004819bdaebb119dc9c8a219626244</th>\n",
       "      <th>01d30c80a5abcd5f520ea2b455c165e1606e5126304d7c607217ee1f0aa4407c</th>\n",
       "      <th>0385b2cb41b302115f307a23a9b860dd709554414b1ae108bbf306f899815b17</th>\n",
       "      <th>0c06e129902925c7ebd70e93d4d09707add781d8bd89cd557cda023045f3853e</th>\n",
       "      <th>06fb64ebe50ee96901a339a7c5f686ead86e2ed6b26a7348595839deb611aa96</th>\n",
       "      <th>6cd8eddf21aacaccddffd9949b60201e086ccac434f7074db97fe538f03b600b</th>\n",
       "      <th>...</th>\n",
       "      <th>0414ffdf9dcf32061cc57d0b54bf4410c1c588258c12615988e3ce8cb0cf4fb4</th>\n",
       "      <th>031ebdaf0189694eec6b83ad26e8252547d843780563f54ec06a170f1c0e40d3</th>\n",
       "      <th>07e1ed9c60ef84688cb35923166762cff3325e058dff59a65549efcd22297436</th>\n",
       "      <th>004ede55a972e10d9a21bcf338b4907d6eed65bf5ad6abbbd5aec7d8484bdedf</th>\n",
       "      <th>0460cfa76fb0a02be92b0bc99a09168ebe38dbc8eeb1aa966dca66f0e849b53d</th>\n",
       "      <th>3ab3c4ffcf366dcbe660506295dcef82d058cb25b1c0b362cc62371a19a0d5f8</th>\n",
       "      <th>60c16e45c5cbe88a38911f1e3176d90444e4884261d8481d4d719acec1bc5025</th>\n",
       "      <th>0b0b902af452e1c949a609a3b29a9de21dac639846c77427de06e6e63c1fe904</th>\n",
       "      <th>0fd062f86151b9d49d65b8f12c52737600bff8bb3462aba7bf23d820bf4d5518</th>\n",
       "      <th>16cc7519945bace49ef729e69db7d19e00252f2bd559903e1631c8878c2360f4</th>\n",
       "    </tr>\n",
       "  </thead>\n",
       "  <tbody>\n",
       "    <tr>\n",
       "      <th>4ccc43857ccae3151a66d645dd90c36275b32eddf7fa0857da9a7a53ac4481d7</th>\n",
       "      <td>0.929818</td>\n",
       "      <td>0.951616</td>\n",
       "      <td>0.876721</td>\n",
       "      <td>0.649591</td>\n",
       "      <td>0.928055</td>\n",
       "      <td>0.927367</td>\n",
       "      <td>0.977322</td>\n",
       "      <td>0.887688</td>\n",
       "      <td>0.976994</td>\n",
       "      <td>0.645574</td>\n",
       "      <td>...</td>\n",
       "      <td>0.896512</td>\n",
       "      <td>1.0</td>\n",
       "      <td>0.968108</td>\n",
       "      <td>0.864225</td>\n",
       "      <td>0.895022</td>\n",
       "      <td>0.960151</td>\n",
       "      <td>0.896431</td>\n",
       "      <td>0.944677</td>\n",
       "      <td>1.0</td>\n",
       "      <td>0.864227</td>\n",
       "    </tr>\n",
       "  </tbody>\n",
       "</table>\n",
       "<p>1 rows × 23 columns</p>\n",
       "</div>"
      ],
      "text/plain": [
       "sha256_hash                                         66e1592e69420d6046dfc44ac8d9c45e9f563fb533cdc13d9565ae6a5438ef51  \\\n",
       "4ccc43857ccae3151a66d645dd90c36275b32eddf7fa085...                                           0.929818                  \n",
       "\n",
       "sha256_hash                                         051c85e9afe69007f927e1d480449faf87e9b8e65f77dd628aa7bff72d3b1f50  \\\n",
       "4ccc43857ccae3151a66d645dd90c36275b32eddf7fa085...                                           0.951616                  \n",
       "\n",
       "sha256_hash                                         00e02c85d1f05aba51d991979c8a3e1d3236dc4a3ce0022d209f1aef80eaa188  \\\n",
       "4ccc43857ccae3151a66d645dd90c36275b32eddf7fa085...                                           0.876721                  \n",
       "\n",
       "sha256_hash                                         032ccd6ae0a6e49ac93b7bd10c7d249f853fff3f5771a1fe3797f733f09db5a0  \\\n",
       "4ccc43857ccae3151a66d645dd90c36275b32eddf7fa085...                                           0.649591                  \n",
       "\n",
       "sha256_hash                                         022f393cce30d4b234fa924569c11c7b19004819bdaebb119dc9c8a219626244  \\\n",
       "4ccc43857ccae3151a66d645dd90c36275b32eddf7fa085...                                           0.928055                  \n",
       "\n",
       "sha256_hash                                         01d30c80a5abcd5f520ea2b455c165e1606e5126304d7c607217ee1f0aa4407c  \\\n",
       "4ccc43857ccae3151a66d645dd90c36275b32eddf7fa085...                                           0.927367                  \n",
       "\n",
       "sha256_hash                                         0385b2cb41b302115f307a23a9b860dd709554414b1ae108bbf306f899815b17  \\\n",
       "4ccc43857ccae3151a66d645dd90c36275b32eddf7fa085...                                           0.977322                  \n",
       "\n",
       "sha256_hash                                         0c06e129902925c7ebd70e93d4d09707add781d8bd89cd557cda023045f3853e  \\\n",
       "4ccc43857ccae3151a66d645dd90c36275b32eddf7fa085...                                           0.887688                  \n",
       "\n",
       "sha256_hash                                         06fb64ebe50ee96901a339a7c5f686ead86e2ed6b26a7348595839deb611aa96  \\\n",
       "4ccc43857ccae3151a66d645dd90c36275b32eddf7fa085...                                           0.976994                  \n",
       "\n",
       "sha256_hash                                         6cd8eddf21aacaccddffd9949b60201e086ccac434f7074db97fe538f03b600b  \\\n",
       "4ccc43857ccae3151a66d645dd90c36275b32eddf7fa085...                                           0.645574                  \n",
       "\n",
       "sha256_hash                                         ...  \\\n",
       "4ccc43857ccae3151a66d645dd90c36275b32eddf7fa085...  ...   \n",
       "\n",
       "sha256_hash                                         0414ffdf9dcf32061cc57d0b54bf4410c1c588258c12615988e3ce8cb0cf4fb4  \\\n",
       "4ccc43857ccae3151a66d645dd90c36275b32eddf7fa085...                                           0.896512                  \n",
       "\n",
       "sha256_hash                                         031ebdaf0189694eec6b83ad26e8252547d843780563f54ec06a170f1c0e40d3  \\\n",
       "4ccc43857ccae3151a66d645dd90c36275b32eddf7fa085...                                                1.0                  \n",
       "\n",
       "sha256_hash                                         07e1ed9c60ef84688cb35923166762cff3325e058dff59a65549efcd22297436  \\\n",
       "4ccc43857ccae3151a66d645dd90c36275b32eddf7fa085...                                           0.968108                  \n",
       "\n",
       "sha256_hash                                         004ede55a972e10d9a21bcf338b4907d6eed65bf5ad6abbbd5aec7d8484bdedf  \\\n",
       "4ccc43857ccae3151a66d645dd90c36275b32eddf7fa085...                                           0.864225                  \n",
       "\n",
       "sha256_hash                                         0460cfa76fb0a02be92b0bc99a09168ebe38dbc8eeb1aa966dca66f0e849b53d  \\\n",
       "4ccc43857ccae3151a66d645dd90c36275b32eddf7fa085...                                           0.895022                  \n",
       "\n",
       "sha256_hash                                         3ab3c4ffcf366dcbe660506295dcef82d058cb25b1c0b362cc62371a19a0d5f8  \\\n",
       "4ccc43857ccae3151a66d645dd90c36275b32eddf7fa085...                                           0.960151                  \n",
       "\n",
       "sha256_hash                                         60c16e45c5cbe88a38911f1e3176d90444e4884261d8481d4d719acec1bc5025  \\\n",
       "4ccc43857ccae3151a66d645dd90c36275b32eddf7fa085...                                           0.896431                  \n",
       "\n",
       "sha256_hash                                         0b0b902af452e1c949a609a3b29a9de21dac639846c77427de06e6e63c1fe904  \\\n",
       "4ccc43857ccae3151a66d645dd90c36275b32eddf7fa085...                                           0.944677                  \n",
       "\n",
       "sha256_hash                                         0fd062f86151b9d49d65b8f12c52737600bff8bb3462aba7bf23d820bf4d5518  \\\n",
       "4ccc43857ccae3151a66d645dd90c36275b32eddf7fa085...                                                1.0                  \n",
       "\n",
       "sha256_hash                                         16cc7519945bace49ef729e69db7d19e00252f2bd559903e1631c8878c2360f4  \n",
       "4ccc43857ccae3151a66d645dd90c36275b32eddf7fa085...                                           0.864227                 \n",
       "\n",
       "[1 rows x 23 columns]"
      ]
     },
     "execution_count": 11,
     "metadata": {},
     "output_type": "execute_result"
    }
   ],
   "source": [
    "df_distances_instance_to_centroid"
   ]
  },
  {
   "cell_type": "markdown",
   "id": "cb5fc589-db05-43a3-81a8-f2d81eb8ee99",
   "metadata": {},
   "source": [
    "### View Similarities Matrix (this is argmax, i.e., the greatest percentage is the centroid of greatest similarity)"
   ]
  },
  {
   "cell_type": "code",
   "execution_count": 12,
   "id": "44d1aee6-86bf-450c-bf22-b6fdf8df8b9b",
   "metadata": {},
   "outputs": [
    {
     "data": {
      "text/html": [
       "<div>\n",
       "<style scoped>\n",
       "    .dataframe tbody tr th:only-of-type {\n",
       "        vertical-align: middle;\n",
       "    }\n",
       "\n",
       "    .dataframe tbody tr th {\n",
       "        vertical-align: top;\n",
       "    }\n",
       "\n",
       "    .dataframe thead th {\n",
       "        text-align: right;\n",
       "    }\n",
       "</style>\n",
       "<table border=\"1\" class=\"dataframe\">\n",
       "  <thead>\n",
       "    <tr style=\"text-align: right;\">\n",
       "      <th>sha256_hash</th>\n",
       "      <th>66e1592e69420d6046dfc44ac8d9c45e9f563fb533cdc13d9565ae6a5438ef51</th>\n",
       "      <th>051c85e9afe69007f927e1d480449faf87e9b8e65f77dd628aa7bff72d3b1f50</th>\n",
       "      <th>00e02c85d1f05aba51d991979c8a3e1d3236dc4a3ce0022d209f1aef80eaa188</th>\n",
       "      <th>032ccd6ae0a6e49ac93b7bd10c7d249f853fff3f5771a1fe3797f733f09db5a0</th>\n",
       "      <th>022f393cce30d4b234fa924569c11c7b19004819bdaebb119dc9c8a219626244</th>\n",
       "      <th>01d30c80a5abcd5f520ea2b455c165e1606e5126304d7c607217ee1f0aa4407c</th>\n",
       "      <th>0385b2cb41b302115f307a23a9b860dd709554414b1ae108bbf306f899815b17</th>\n",
       "      <th>0c06e129902925c7ebd70e93d4d09707add781d8bd89cd557cda023045f3853e</th>\n",
       "      <th>06fb64ebe50ee96901a339a7c5f686ead86e2ed6b26a7348595839deb611aa96</th>\n",
       "      <th>6cd8eddf21aacaccddffd9949b60201e086ccac434f7074db97fe538f03b600b</th>\n",
       "      <th>...</th>\n",
       "      <th>0414ffdf9dcf32061cc57d0b54bf4410c1c588258c12615988e3ce8cb0cf4fb4</th>\n",
       "      <th>031ebdaf0189694eec6b83ad26e8252547d843780563f54ec06a170f1c0e40d3</th>\n",
       "      <th>07e1ed9c60ef84688cb35923166762cff3325e058dff59a65549efcd22297436</th>\n",
       "      <th>004ede55a972e10d9a21bcf338b4907d6eed65bf5ad6abbbd5aec7d8484bdedf</th>\n",
       "      <th>0460cfa76fb0a02be92b0bc99a09168ebe38dbc8eeb1aa966dca66f0e849b53d</th>\n",
       "      <th>3ab3c4ffcf366dcbe660506295dcef82d058cb25b1c0b362cc62371a19a0d5f8</th>\n",
       "      <th>60c16e45c5cbe88a38911f1e3176d90444e4884261d8481d4d719acec1bc5025</th>\n",
       "      <th>0b0b902af452e1c949a609a3b29a9de21dac639846c77427de06e6e63c1fe904</th>\n",
       "      <th>0fd062f86151b9d49d65b8f12c52737600bff8bb3462aba7bf23d820bf4d5518</th>\n",
       "      <th>16cc7519945bace49ef729e69db7d19e00252f2bd559903e1631c8878c2360f4</th>\n",
       "    </tr>\n",
       "  </thead>\n",
       "  <tbody>\n",
       "    <tr>\n",
       "      <th>4ccc43857ccae3151a66d645dd90c36275b32eddf7fa0857da9a7a53ac4481d7</th>\n",
       "      <td>0.070182</td>\n",
       "      <td>0.048384</td>\n",
       "      <td>0.123279</td>\n",
       "      <td>0.350409</td>\n",
       "      <td>0.071945</td>\n",
       "      <td>0.072633</td>\n",
       "      <td>0.022678</td>\n",
       "      <td>0.112312</td>\n",
       "      <td>0.023006</td>\n",
       "      <td>0.354426</td>\n",
       "      <td>...</td>\n",
       "      <td>0.103488</td>\n",
       "      <td>0.0</td>\n",
       "      <td>0.031892</td>\n",
       "      <td>0.135775</td>\n",
       "      <td>0.104978</td>\n",
       "      <td>0.039849</td>\n",
       "      <td>0.103569</td>\n",
       "      <td>0.055323</td>\n",
       "      <td>0.0</td>\n",
       "      <td>0.135773</td>\n",
       "    </tr>\n",
       "  </tbody>\n",
       "</table>\n",
       "<p>1 rows × 23 columns</p>\n",
       "</div>"
      ],
      "text/plain": [
       "sha256_hash                                         66e1592e69420d6046dfc44ac8d9c45e9f563fb533cdc13d9565ae6a5438ef51  \\\n",
       "4ccc43857ccae3151a66d645dd90c36275b32eddf7fa085...                                           0.070182                  \n",
       "\n",
       "sha256_hash                                         051c85e9afe69007f927e1d480449faf87e9b8e65f77dd628aa7bff72d3b1f50  \\\n",
       "4ccc43857ccae3151a66d645dd90c36275b32eddf7fa085...                                           0.048384                  \n",
       "\n",
       "sha256_hash                                         00e02c85d1f05aba51d991979c8a3e1d3236dc4a3ce0022d209f1aef80eaa188  \\\n",
       "4ccc43857ccae3151a66d645dd90c36275b32eddf7fa085...                                           0.123279                  \n",
       "\n",
       "sha256_hash                                         032ccd6ae0a6e49ac93b7bd10c7d249f853fff3f5771a1fe3797f733f09db5a0  \\\n",
       "4ccc43857ccae3151a66d645dd90c36275b32eddf7fa085...                                           0.350409                  \n",
       "\n",
       "sha256_hash                                         022f393cce30d4b234fa924569c11c7b19004819bdaebb119dc9c8a219626244  \\\n",
       "4ccc43857ccae3151a66d645dd90c36275b32eddf7fa085...                                           0.071945                  \n",
       "\n",
       "sha256_hash                                         01d30c80a5abcd5f520ea2b455c165e1606e5126304d7c607217ee1f0aa4407c  \\\n",
       "4ccc43857ccae3151a66d645dd90c36275b32eddf7fa085...                                           0.072633                  \n",
       "\n",
       "sha256_hash                                         0385b2cb41b302115f307a23a9b860dd709554414b1ae108bbf306f899815b17  \\\n",
       "4ccc43857ccae3151a66d645dd90c36275b32eddf7fa085...                                           0.022678                  \n",
       "\n",
       "sha256_hash                                         0c06e129902925c7ebd70e93d4d09707add781d8bd89cd557cda023045f3853e  \\\n",
       "4ccc43857ccae3151a66d645dd90c36275b32eddf7fa085...                                           0.112312                  \n",
       "\n",
       "sha256_hash                                         06fb64ebe50ee96901a339a7c5f686ead86e2ed6b26a7348595839deb611aa96  \\\n",
       "4ccc43857ccae3151a66d645dd90c36275b32eddf7fa085...                                           0.023006                  \n",
       "\n",
       "sha256_hash                                         6cd8eddf21aacaccddffd9949b60201e086ccac434f7074db97fe538f03b600b  \\\n",
       "4ccc43857ccae3151a66d645dd90c36275b32eddf7fa085...                                           0.354426                  \n",
       "\n",
       "sha256_hash                                         ...  \\\n",
       "4ccc43857ccae3151a66d645dd90c36275b32eddf7fa085...  ...   \n",
       "\n",
       "sha256_hash                                         0414ffdf9dcf32061cc57d0b54bf4410c1c588258c12615988e3ce8cb0cf4fb4  \\\n",
       "4ccc43857ccae3151a66d645dd90c36275b32eddf7fa085...                                           0.103488                  \n",
       "\n",
       "sha256_hash                                         031ebdaf0189694eec6b83ad26e8252547d843780563f54ec06a170f1c0e40d3  \\\n",
       "4ccc43857ccae3151a66d645dd90c36275b32eddf7fa085...                                                0.0                  \n",
       "\n",
       "sha256_hash                                         07e1ed9c60ef84688cb35923166762cff3325e058dff59a65549efcd22297436  \\\n",
       "4ccc43857ccae3151a66d645dd90c36275b32eddf7fa085...                                           0.031892                  \n",
       "\n",
       "sha256_hash                                         004ede55a972e10d9a21bcf338b4907d6eed65bf5ad6abbbd5aec7d8484bdedf  \\\n",
       "4ccc43857ccae3151a66d645dd90c36275b32eddf7fa085...                                           0.135775                  \n",
       "\n",
       "sha256_hash                                         0460cfa76fb0a02be92b0bc99a09168ebe38dbc8eeb1aa966dca66f0e849b53d  \\\n",
       "4ccc43857ccae3151a66d645dd90c36275b32eddf7fa085...                                           0.104978                  \n",
       "\n",
       "sha256_hash                                         3ab3c4ffcf366dcbe660506295dcef82d058cb25b1c0b362cc62371a19a0d5f8  \\\n",
       "4ccc43857ccae3151a66d645dd90c36275b32eddf7fa085...                                           0.039849                  \n",
       "\n",
       "sha256_hash                                         60c16e45c5cbe88a38911f1e3176d90444e4884261d8481d4d719acec1bc5025  \\\n",
       "4ccc43857ccae3151a66d645dd90c36275b32eddf7fa085...                                           0.103569                  \n",
       "\n",
       "sha256_hash                                         0b0b902af452e1c949a609a3b29a9de21dac639846c77427de06e6e63c1fe904  \\\n",
       "4ccc43857ccae3151a66d645dd90c36275b32eddf7fa085...                                           0.055323                  \n",
       "\n",
       "sha256_hash                                         0fd062f86151b9d49d65b8f12c52737600bff8bb3462aba7bf23d820bf4d5518  \\\n",
       "4ccc43857ccae3151a66d645dd90c36275b32eddf7fa085...                                                0.0                  \n",
       "\n",
       "sha256_hash                                         16cc7519945bace49ef729e69db7d19e00252f2bd559903e1631c8878c2360f4  \n",
       "4ccc43857ccae3151a66d645dd90c36275b32eddf7fa085...                                           0.135773                 \n",
       "\n",
       "[1 rows x 23 columns]"
      ]
     },
     "execution_count": 12,
     "metadata": {},
     "output_type": "execute_result"
    }
   ],
   "source": [
    "df_similarity_matrix"
   ]
  }
 ],
 "metadata": {
  "kernelspec": {
   "display_name": "Python 3.11 (Anaconda 2024.02)",
   "language": "python",
   "name": "anaconda-2024.02-py311"
  },
  "language_info": {
   "codemirror_mode": {
    "name": "ipython",
    "version": 3
   },
   "file_extension": ".py",
   "mimetype": "text/x-python",
   "name": "python",
   "nbconvert_exporter": "python",
   "pygments_lexer": "ipython3",
   "version": "3.11.7"
  }
 },
 "nbformat": 4,
 "nbformat_minor": 5
}
